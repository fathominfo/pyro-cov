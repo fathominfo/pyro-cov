{
 "cells": [
  {
   "cell_type": "code",
   "execution_count": 1,
   "id": "0e9f8dcb-d5a8-4ce8-beff-c5fa117a52f2",
   "metadata": {},
   "outputs": [],
   "source": [
    "import argparse\n",
    "import datetime\n",
    "import logging\n",
    "import math\n",
    "import pickle\n",
    "import re\n",
    "from collections import Counter, defaultdict\n",
    "\n",
    "import pandas as pd\n",
    "import torch\n",
    "import tqdm\n",
    "\n",
    "from pyrocov.geo import get_canonical_location_generator, gisaid_normalize\n",
    "from pyrocov.mutrans import START_DATE\n",
    "from pyrocov.sarscov2 import nuc_mutations_to_aa_mutations\n",
    "from pyrocov.usher import (\n",
    "    FineToMeso,\n",
    "    load_mutation_tree,\n",
    "    load_proto,\n",
    "    prune_mutation_tree,\n",
    "    refine_mutation_tree,\n",
    ")\n",
    "from pyrocov.util import gzip_open_tqdm\n",
    "\n",
    "logger = logging.getLogger(__name__)\n",
    "logging.basicConfig(format=\"%(relativeCreated) 9d %(message)s\", level=logging.INFO)\n",
    "\n",
    "DATE_FORMATS = {7: \"%Y-%m\", 10: \"%Y-%m-%d\"}"
   ]
  },
  {
   "cell_type": "code",
   "execution_count": 8,
   "id": "f306b734-d3e0-4878-8aca-59581b8b570f",
   "metadata": {},
   "outputs": [],
   "source": [
    "# Copied from scripts/preprocess_usher.py\n",
    "# DATE_FORMATS = {7: \"%Y-%m\", 10: \"%Y-%m-%d\"}\n",
    "\n",
    "# def try_parse_date(string):\n",
    "#     fmt = DATE_FORMATS.get(len(string))\n",
    "#     if fmt is not None:\n",
    "#         return datetime.datetime.strptime(string, fmt)\n",
    "    \n",
    "DATE_FORMATS = {7: \"%Y-%m\", 10: \"%Y-%m-%d\"}\n",
    "\n",
    "def try_parse_date(string):\n",
    "    fmt = DATE_FORMATS.get(len(string))\n",
    "    if fmt is not None:\n",
    "        try:\n",
    "            return datetime.datetime.strptime(string, fmt)\n",
    "        except ValueError:\n",
    "            return    \n",
    "    \n",
    "    \n",
    "\n",
    "parser = argparse.ArgumentParser(description=\"Preprocess pangolin mutations\")\n",
    "parser.add_argument(\n",
    "    \"--usher-metadata-file-in\", default=\"results/usher/metadata.tsv\"\n",
    ")\n",
    "parser.add_argument(\n",
    "    \"--nextstrain-metadata-file-in\", default=\"results/nextstrain/metadata.tsv\"\n",
    ")\n",
    "parser.add_argument(\"--gisaid-metadata-file-in\", default=\"\")\n",
    "parser.add_argument(\"--tree-file-in\", default=\"results/usher/all.masked.pb\")\n",
    "parser.add_argument(\"--tree-file-out\", default=\"results/lineageTree.fine.pb\")\n",
    "parser.add_argument(\"--stats-file-out\", default=\"results/stats.pkl\")\n",
    "parser.add_argument(\"--recover-missing-usa-state\", action=\"store_true\")\n",
    "parser.add_argument(\"-s\", \"--max-skippage\", type=float, default=1e7)\n",
    "parser.add_argument(\"-c\", \"--max-num-clades\", default=\"2000,3000,5000,10000\")\n",
    "parser.add_argument(\"--start-date\", default=START_DATE)\n",
    "\n",
    "# args = parser.parse_args()\n",
    "args = parser.parse_args(args=[])\n",
    "\n",
    "args.start_date = try_parse_date(args.start_date)"
   ]
  },
  {
   "cell_type": "code",
   "execution_count": 9,
   "id": "375d3147-1302-4e84-89d1-85dee080703b",
   "metadata": {},
   "outputs": [],
   "source": [
    "import gzip\n",
    "\n",
    "from pyrocov.usher import load_proto\n",
    "from pyrocov.usher import parsimony_pb2"
   ]
  },
  {
   "cell_type": "code",
   "execution_count": 12,
   "id": "a54c56a2-aa04-461d-8c46-0cecfe2e50da",
   "metadata": {},
   "outputs": [],
   "source": [
    "# filename = \"results/gisaid/gisaidAndPublic.2021-03-26.masked.pb.gz\"\n",
    "filename = \"results/gisaid/gisaidAndPublic.2022-09-14.masked.pb.gz\"\n",
    "proto, tree = load_proto(filename)"
   ]
  },
  {
   "cell_type": "code",
   "execution_count": 13,
   "id": "69193274-8c1a-4eef-b169-0549384d67ad",
   "metadata": {},
   "outputs": [],
   "source": [
    "clades = list(tree.find_clades())"
   ]
  },
  {
   "cell_type": "code",
   "execution_count": 14,
   "id": "0f63e00b-47b4-4fbd-bd2b-bf61f694dc20",
   "metadata": {},
   "outputs": [
    {
     "name": "stdout",
     "output_type": "stream",
     "text": [
      "8248803\n",
      "8248803\n",
      "8248803\n"
     ]
    }
   ],
   "source": [
    "print(len(proto.node_mutations))\n",
    "print(len(proto.metadata))\n",
    "print(len(clades))"
   ]
  },
  {
   "cell_type": "code",
   "execution_count": 15,
   "id": "f7670afa-fc18-41f1-b1b3-b36eead38000",
   "metadata": {},
   "outputs": [
    {
     "data": {
      "text/plain": [
       "[Clade(branch_length=0.0),\n",
       " Clade(branch_length=1.0, name='CHN/YN-0306-466/2020|MT396241.1|2020-03-06'),\n",
       " Clade(branch_length=1.0, name='DP0803|LC571037.1|2020-02-17'),\n",
       " Clade(branch_length=1.0),\n",
       " Clade(branch_length=2.0, name='England/LEED-2A8B52/2020|OA971832.1|2020-04-04'),\n",
       " Clade(branch_length=1.0, name='England/SHEF-C06CE/2020|2020-03-25'),\n",
       " Clade(branch_length=1.0),\n",
       " Clade(branch_length=1.0),\n",
       " Clade(branch_length=0.0, name='England/SHEF-C07F8/2020|2020-03-21'),\n",
       " Clade(branch_length=1.0, name='England/SHEF-C0145/2020|2020-03-25')]"
      ]
     },
     "execution_count": 15,
     "metadata": {},
     "output_type": "execute_result"
    }
   ],
   "source": [
    "clades[:10]"
   ]
  },
  {
   "cell_type": "code",
   "execution_count": 16,
   "id": "353b1532-0b31-4041-a6ef-006f30e00c7e",
   "metadata": {},
   "outputs": [],
   "source": [
    "open_ = gzip.open if filename.endswith(\".gz\") else open\n",
    "with open_(filename, \"rb\") as f:\n",
    "    proto = parsimony_pb2.data.FromString(f.read())  # type: ignore"
   ]
  },
  {
   "cell_type": "code",
   "execution_count": 17,
   "id": "ec54013c-c1ad-417d-8654-d214496558e9",
   "metadata": {},
   "outputs": [
    {
     "data": {
      "text/plain": [
       "parsimony_pb2.node_metadata"
      ]
     },
     "execution_count": 17,
     "metadata": {},
     "output_type": "execute_result"
    }
   ],
   "source": [
    "mutations=list(proto.node_mutations)\n",
    "metadata = list(proto.metadata)\n",
    "type(metadata[0])"
   ]
  },
  {
   "cell_type": "code",
   "execution_count": 18,
   "id": "b9da144a-c0fa-4d9a-9744-2b07a93eb95d",
   "metadata": {},
   "outputs": [
    {
     "data": {
      "text/plain": [
       "8248803"
      ]
     },
     "execution_count": 18,
     "metadata": {},
     "output_type": "execute_result"
    }
   ],
   "source": [
    "len(clades)"
   ]
  },
  {
   "cell_type": "code",
   "execution_count": null,
   "id": "a391281a-0a5f-45aa-b819-d186efe1ec12",
   "metadata": {},
   "outputs": [],
   "source": []
  }
 ],
 "metadata": {
  "kernelspec": {
   "display_name": "Python 3 (ipykernel)",
   "language": "python",
   "name": "python3"
  },
  "language_info": {
   "codemirror_mode": {
    "name": "ipython",
    "version": 3
   },
   "file_extension": ".py",
   "mimetype": "text/x-python",
   "name": "python",
   "nbconvert_exporter": "python",
   "pygments_lexer": "ipython3",
   "version": "3.9.15"
  }
 },
 "nbformat": 4,
 "nbformat_minor": 5
}
